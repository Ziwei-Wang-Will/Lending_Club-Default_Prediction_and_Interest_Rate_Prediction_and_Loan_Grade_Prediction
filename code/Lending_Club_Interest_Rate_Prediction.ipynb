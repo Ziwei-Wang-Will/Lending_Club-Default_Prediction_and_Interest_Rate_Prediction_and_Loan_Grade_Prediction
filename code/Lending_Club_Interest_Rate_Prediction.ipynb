{
 "cells": [
  {
   "cell_type": "markdown",
   "metadata": {},
   "source": [
    "#  Lending_Club - Interest_Rate_Prediction"
   ]
  },
  {
   "cell_type": "markdown",
   "metadata": {},
   "source": [
    "# Description\n",
    "1. For the Loan Lending club, it's extremely important to know how's the loan repayment capacity for each loan applicant, and how much interest rate should be assigned to each loan application appropriately. \n",
    "    - Firstly, knowing the loan repayment capacity for each loan applicant could help it decide whether to \"accept\" or \"deny\" a loan application. \n",
    "    - Second, evaluating interest rate precisely could bring an additional incentive for those who are willing to \"lend\" money and also attain a balance between demand (borrowers) and supply (lenders).\n",
    "2. As a result, some suitable metrics must be determined by looking at the dataset.\n",
    "    - **Metrics**\n",
    "        - loan status: To evaluate the loan repayment capacity for each loan applicant.\n",
    "        - grade: A good categorical index to know the loan repayment capacity.\n",
    "        - interest rate: A numerical feature playing a role of balancing demand and supply. \n",
    "3. In this jupyter notebook, we bulid models to predict **'Interest_Rate'** with matric **'int_rate'**."
   ]
  },
  {
   "cell_type": "markdown",
   "metadata": {},
   "source": [
    "## Main Task\n",
    "\n",
    "1. Prepare the dataset \n",
    "2. Categorical Feature Transformation\n",
    "    - 2.1 One-hot encoding\n",
    "    - 2.2 Dummy features\n",
    "3. Data preprocessing\n",
    "    - 3.1 Split data into train and test sets\n",
    "    - 3.2 Standarize data\n",
    "4. Modeling\n",
    "    - 4.1 Linear Regression\n",
    "        - 4.1.1 Randomized Grid Search - Linear Regression\n",
    "        - 4.1.2 Model performance evaluation: MSE and R-squared\n",
    "    - 4.2 Bagged Decision Tree Regression\n",
    "        - 4.2.1 RandomizedSearchCV - Bagged Decision Tree Regression\n",
    "        - 4.2.2 Model performance evaluation: MSE and R-squared\n",
    "    - 4.3 Random Forest Regression\n",
    "        - 4.3.1 Randomized Grid Search - Random Forest Regression\n",
    "        - 4.3.2 Model performance evaluation: MSE and R-squared\n",
    "    - 4.4 Gradient Boosting Regression\n",
    "        - 4.4.1 Randomized Grid Search - Gradient Boosting Regression\n",
    "        - 4.4.2 Model performance evaluation: MSE and R-squared\n",
    "5. Summary\n",
    "    - 5.1 Feature Conclusion\n",
    "    - 5.2 Model Comparison\n",
    "    - 5.3 Next Step"
   ]
  },
  {
   "cell_type": "code",
   "execution_count": 55,
   "metadata": {},
   "outputs": [],
   "source": [
    "# Data structure packages\n",
    "import pandas as pd\n",
    "import numpy as np\n",
    "\n",
    "# Machine Learning packages\n",
    "import time\n",
    "import math\n",
    "from scipy import stats\n",
    "from sklearn.preprocessing import MinMaxScaler, LabelEncoder\n",
    "from sklearn.model_selection import train_test_split\n",
    "from sklearn.model_selection import KFold\n",
    "from sklearn.metrics import roc_auc_score, confusion_matrix\n",
    "\n",
    "from PIL import Image\n",
    "\n",
    "# Visualization packages\n",
    "import seaborn as sns\n",
    "import matplotlib.pyplot as plt\n",
    "plt.style.use(\"ggplot\")"
   ]
  },
  {
   "cell_type": "markdown",
   "metadata": {},
   "source": [
    "## 1. Prepare the dataset"
   ]
  },
  {
   "cell_type": "code",
   "execution_count": 56,
   "metadata": {},
   "outputs": [],
   "source": [
    "# load data\n",
    "loan = pd.read_csv(\"../data/final_LC_loan.csv\")"
   ]
  },
  {
   "cell_type": "code",
   "execution_count": 3,
   "metadata": {},
   "outputs": [],
   "source": [
    "# Should exclude other response features before modeling\n",
    "no_other_response_loan = loan.drop(['loan_status', 'loan_status_binary', 'sub_grade', 'grade', 'int_rate'], axis = 1)"
   ]
  },
  {
   "cell_type": "markdown",
   "metadata": {},
   "source": [
    "#### exclude Loan payment related features which are unavailable when we try to predict Interest Rate"
   ]
  },
  {
   "cell_type": "code",
   "execution_count": 4,
   "metadata": {},
   "outputs": [],
   "source": [
    "# exclude Loan payment related features which are unavailable when we try to predict Interest Rate\n",
    "pyment_related = ['installment', 'funded_amnt', 'funded_amnt_inv', 'last_pymnt_amnt', 'level_diff_last_issue_d', \n",
    "                  'level_diff_next_issue_d', 'pymnt_plan', 'total_pymnt' ,'total_pymnt_inv', 'total_rec_int', \n",
    "                'total_rec_prncp', 'out_prncp', 'out_prncp_inv']"
   ]
  },
  {
   "cell_type": "code",
   "execution_count": 5,
   "metadata": {},
   "outputs": [],
   "source": [
    "# exclude target label related features\n",
    "no_other_response_loan = no_other_response_loan.drop(pyment_related, axis = 1)\n",
    "y = loan.int_rate.values"
   ]
  },
  {
   "cell_type": "markdown",
   "metadata": {},
   "source": [
    "## 2. Categorical Feature Transformation"
   ]
  },
  {
   "cell_type": "markdown",
   "metadata": {},
   "source": [
    "### 2.1 One-hot encoding "
   ]
  },
  {
   "cell_type": "code",
   "execution_count": 6,
   "metadata": {},
   "outputs": [
    {
     "name": "stdout",
     "output_type": "stream",
     "text": [
      "term 0\n",
      "emp_length 0\n",
      "home_ownership 0\n",
      "verification_status 0\n",
      "purpose 0\n",
      "title 0\n",
      "initial_list_status 0\n",
      "application_type 0\n",
      "hardship_flag 0\n",
      "hardship_type 0\n",
      "hardship_reason 0\n",
      "hardship_status 0\n",
      "hardship_loan_status 0\n",
      "disbursement_method 0\n",
      "debt_settlement_flag 0\n",
      "settlement_status 0\n",
      "days_between_issue_payment_plan_start_date 0\n",
      "days_between_issue_hardship_start_date 0\n",
      "days_between_issue_hardship_end_date 0\n",
      "level_between_issue_settlement_date 0\n",
      "level_between_max_issue_sec_earliest_cr_line 0\n",
      "level_since_last_credit_pull 0\n",
      "T_unique_title 0\n",
      "level_since_issue 0\n",
      "level_between_max_issue_earliest_cr_line 0\n",
      "group_state 0\n"
     ]
    }
   ],
   "source": [
    "# Collect column names, check missing value \n",
    "one_hot_column = []\n",
    "dummy_column = []\n",
    "\n",
    "for each in no_other_response_loan:\n",
    "    if no_other_response_loan[each].dtype == 'object':\n",
    "        # Check NA values again\n",
    "        print(each, no_other_response_loan[each].isnull().sum())\n",
    "        if len(no_other_response_loan[each].unique()) <= 2:\n",
    "            one_hot_column.append(each)\n",
    "        elif len(no_other_response_loan[each].unique()) > 2:\n",
    "            dummy_column.append(each)"
   ]
  },
  {
   "cell_type": "code",
   "execution_count": 7,
   "metadata": {},
   "outputs": [
    {
     "name": "stdout",
     "output_type": "stream",
     "text": [
      "term\n",
      "initial_list_status\n",
      "application_type\n",
      "hardship_flag\n",
      "hardship_type\n",
      "hardship_status\n",
      "disbursement_method\n",
      "debt_settlement_flag\n",
      "settlement_status\n",
      "9 columns were label encoded.\n"
     ]
    }
   ],
   "source": [
    "# One-hot encoding for categorical variables containing two levels\n",
    "le = LabelEncoder()\n",
    "le_count = 0\n",
    "\n",
    "for col in one_hot_column:\n",
    "    print(col)\n",
    "    le.fit(no_other_response_loan[col])\n",
    "    no_other_response_loan[col] = le.transform(no_other_response_loan[col])\n",
    "            \n",
    "    # Keep track of how many columns were label encoded\n",
    "    le_count += 1\n",
    "            \n",
    "print('%d columns were label encoded.' % le_count)"
   ]
  },
  {
   "cell_type": "markdown",
   "metadata": {},
   "source": [
    "### 2.2 Dummy features"
   ]
  },
  {
   "cell_type": "code",
   "execution_count": 8,
   "metadata": {},
   "outputs": [
    {
     "name": "stdout",
     "output_type": "stream",
     "text": [
      "emp_length 12\n",
      "home_ownership 4\n",
      "verification_status 3\n",
      "purpose 13\n",
      "title 12\n",
      "hardship_reason 3\n",
      "hardship_loan_status 3\n",
      "days_between_issue_payment_plan_start_date 3\n",
      "days_between_issue_hardship_start_date 4\n",
      "days_between_issue_hardship_end_date 3\n",
      "level_between_issue_settlement_date 5\n",
      "level_between_max_issue_sec_earliest_cr_line 11\n",
      "level_since_last_credit_pull 10\n",
      "T_unique_title 21\n",
      "level_since_issue 3\n",
      "level_between_max_issue_earliest_cr_line 10\n",
      "group_state 5\n",
      "In total: 108 will be additionally added.\n"
     ]
    }
   ],
   "source": [
    "# Create dummy features\n",
    "sum_len = 0\n",
    "for col in dummy_column:\n",
    "    sum_len += len(no_other_response_loan[col].unique())\n",
    "    print(col, len(no_other_response_loan[col].unique()))\n",
    "    \n",
    "print('In total:', sum_len - len(dummy_column), 'will be additionally added.')"
   ]
  },
  {
   "cell_type": "markdown",
   "metadata": {},
   "source": [
    "## 3. Data preprocessing"
   ]
  },
  {
   "cell_type": "markdown",
   "metadata": {},
   "source": [
    "### 3.1 Split data into train and test sets"
   ]
  },
  {
   "cell_type": "code",
   "execution_count": 9,
   "metadata": {},
   "outputs": [
    {
     "name": "stdout",
     "output_type": "stream",
     "text": [
      "(107864, 81)\n",
      "(107864,)\n"
     ]
    }
   ],
   "source": [
    "# Seperate features into x (independent features) and y (dependent feature)\n",
    "print(no_other_response_loan.shape)\n",
    "print(y.shape)"
   ]
  },
  {
   "cell_type": "code",
   "execution_count": 10,
   "metadata": {},
   "outputs": [
    {
     "name": "stdout",
     "output_type": "stream",
     "text": [
      "(107864, 189)\n"
     ]
    }
   ],
   "source": [
    "# 81 + 108 = 189, correct dummy feature transformation!\n",
    "x = pd.get_dummies(no_other_response_loan, columns = dummy_column)\n",
    "print(x.shape)"
   ]
  },
  {
   "cell_type": "code",
   "execution_count": 11,
   "metadata": {},
   "outputs": [],
   "source": [
    "# Split data into train and test (80% & 20%)\n",
    "x_train, x_test, y_train, y_test = train_test_split(x, y, \n",
    "                                                    test_size = 0.2, random_state = 1)"
   ]
  },
  {
   "cell_type": "markdown",
   "metadata": {},
   "source": [
    "### 3.2 Standarize data"
   ]
  },
  {
   "cell_type": "code",
   "execution_count": 12,
   "metadata": {},
   "outputs": [],
   "source": [
    "# Before modeling, standardize each feature\n",
    "from sklearn.preprocessing import StandardScaler\n",
    "\n",
    "scaler = StandardScaler()\n",
    "\n",
    "x_train_std = scaler.fit_transform(x_train)\n",
    "x_test_std = scaler.transform(x_test)"
   ]
  },
  {
   "cell_type": "code",
   "execution_count": 13,
   "metadata": {},
   "outputs": [
    {
     "name": "stdout",
     "output_type": "stream",
     "text": [
      "(86291, 189)\n",
      "(21573, 189)\n",
      "86291\n",
      "21573\n"
     ]
    }
   ],
   "source": [
    "print(x_train_std.shape)\n",
    "print(x_test_std.shape)\n",
    "print(len(y_train))\n",
    "print(len(y_test))"
   ]
  },
  {
   "cell_type": "markdown",
   "metadata": {},
   "source": [
    "## 4. Modeling\n",
    "- 4.1 Linear Regression\n",
    "    - 4.1.1 Randomized Grid Search - Linear Regression\n",
    "    - 4.1.2 Model performance evaluation: MSE and R-squared\n",
    "- 4.2 Bagged Decision Tree Regression\n",
    "    - 4.2.1 RandomizedSearchCV - Bagged Decision Tree Regression\n",
    "    - 4.2.2 Model performance evaluation: MSE and R-squared\n",
    "- 4.3 Random Forest Regression\n",
    "    - 4.3.1 Randomized Grid Search - Random Forest Regression\n",
    "    - 4.3.2 Model performance evaluation: MSE and R-squared\n",
    "- 4.4 Gradient Boosting Regression\n",
    "    - 4.4.1 Randomized Grid Search - Gradient Boosting Regression\n",
    "    - 4.4.2 Model performance evaluation: MSE and R-squared"
   ]
  },
  {
   "cell_type": "markdown",
   "metadata": {},
   "source": [
    "### 4.1 Linear Regression"
   ]
  },
  {
   "cell_type": "code",
   "execution_count": 47,
   "metadata": {},
   "outputs": [
    {
     "data": {
      "text/plain": [
       "ElasticNet(alpha=1.0, copy_X=True, fit_intercept=True, l1_ratio=0.5,\n",
       "      max_iter=1000, normalize=False, positive=False, precompute=False,\n",
       "      random_state=0, selection='cyclic', tol=0.0001, warm_start=False)"
      ]
     },
     "execution_count": 47,
     "metadata": {},
     "output_type": "execute_result"
    }
   ],
   "source": [
    "from sklearn.linear_model import ElasticNet\n",
    "LR = ElasticNet(alpha=1.0, copy_X=True, fit_intercept=True, l1_ratio=0.5,\n",
    "      max_iter=1000, normalize=False, positive=False, precompute=False,\n",
    "      random_state=0, selection='cyclic', tol=0.0001, warm_start=False)\n",
    "LR.fit(x_train_std, y_train)"
   ]
  },
  {
   "cell_type": "code",
   "execution_count": 48,
   "metadata": {},
   "outputs": [],
   "source": [
    "prediction = LR.predict(x_test_std)"
   ]
  },
  {
   "cell_type": "code",
   "execution_count": 49,
   "metadata": {},
   "outputs": [
    {
     "name": "stdout",
     "output_type": "stream",
     "text": [
      "Mean squared error: 14.7952\n",
      "Variance score: 0.3376\n"
     ]
    }
   ],
   "source": [
    "# Print out important metrics\n",
    "# Mean squared error: 14.80, Variance score: 0.34\n",
    "print(\"Mean squared error: %.4f\"\n",
    "      % mean_squared_error(y_test, prediction))\n",
    "print('Variance score: %.4f' % r2_score(y_test, prediction))"
   ]
  },
  {
   "cell_type": "markdown",
   "metadata": {},
   "source": [
    "### 4.1.1 Randomized Grid Search - Linear Regression"
   ]
  },
  {
   "cell_type": "code",
   "execution_count": 50,
   "metadata": {},
   "outputs": [
    {
     "name": "stderr",
     "output_type": "stream",
     "text": [
      "/anaconda3/lib/python3.6/site-packages/sklearn/linear_model/coordinate_descent.py:491: ConvergenceWarning: Objective did not converge. You might want to increase the number of iterations. Fitting data with very small alpha may cause precision problems.\n",
      "  ConvergenceWarning)\n",
      "/anaconda3/lib/python3.6/site-packages/sklearn/linear_model/coordinate_descent.py:491: ConvergenceWarning: Objective did not converge. You might want to increase the number of iterations. Fitting data with very small alpha may cause precision problems.\n",
      "  ConvergenceWarning)\n",
      "/anaconda3/lib/python3.6/site-packages/sklearn/linear_model/coordinate_descent.py:491: ConvergenceWarning: Objective did not converge. You might want to increase the number of iterations. Fitting data with very small alpha may cause precision problems.\n",
      "  ConvergenceWarning)\n",
      "/anaconda3/lib/python3.6/site-packages/sklearn/linear_model/coordinate_descent.py:491: ConvergenceWarning: Objective did not converge. You might want to increase the number of iterations. Fitting data with very small alpha may cause precision problems.\n",
      "  ConvergenceWarning)\n",
      "/anaconda3/lib/python3.6/site-packages/sklearn/linear_model/coordinate_descent.py:491: ConvergenceWarning: Objective did not converge. You might want to increase the number of iterations. Fitting data with very small alpha may cause precision problems.\n",
      "  ConvergenceWarning)\n",
      "/anaconda3/lib/python3.6/site-packages/sklearn/linear_model/coordinate_descent.py:491: ConvergenceWarning: Objective did not converge. You might want to increase the number of iterations. Fitting data with very small alpha may cause precision problems.\n",
      "  ConvergenceWarning)\n",
      "/anaconda3/lib/python3.6/site-packages/sklearn/linear_model/coordinate_descent.py:491: ConvergenceWarning: Objective did not converge. You might want to increase the number of iterations. Fitting data with very small alpha may cause precision problems.\n",
      "  ConvergenceWarning)\n",
      "/anaconda3/lib/python3.6/site-packages/sklearn/linear_model/coordinate_descent.py:491: ConvergenceWarning: Objective did not converge. You might want to increase the number of iterations. Fitting data with very small alpha may cause precision problems.\n",
      "  ConvergenceWarning)\n",
      "/anaconda3/lib/python3.6/site-packages/sklearn/linear_model/coordinate_descent.py:491: ConvergenceWarning: Objective did not converge. You might want to increase the number of iterations. Fitting data with very small alpha may cause precision problems.\n",
      "  ConvergenceWarning)\n",
      "/anaconda3/lib/python3.6/site-packages/sklearn/linear_model/coordinate_descent.py:491: ConvergenceWarning: Objective did not converge. You might want to increase the number of iterations. Fitting data with very small alpha may cause precision problems.\n",
      "  ConvergenceWarning)\n"
     ]
    },
    {
     "name": "stdout",
     "output_type": "stream",
     "text": [
      "execution time 577.8445520401001\n"
     ]
    },
    {
     "name": "stderr",
     "output_type": "stream",
     "text": [
      "/anaconda3/lib/python3.6/site-packages/sklearn/linear_model/coordinate_descent.py:491: ConvergenceWarning: Objective did not converge. You might want to increase the number of iterations. Fitting data with very small alpha may cause precision problems.\n",
      "  ConvergenceWarning)\n"
     ]
    }
   ],
   "source": [
    "# Record the randomized grid searching time\n",
    "start_time = time.time()\n",
    "\n",
    "# Construct a decision tree regression model\n",
    "LR = ElasticNet()\n",
    "\n",
    "# Construct ranges for each parameter \n",
    "param_grid = {'alpha': np.linspace(0.1,20,20),\n",
    "             'l1_ratio': np.linspace(0,1,10)\n",
    "             }\n",
    "\n",
    "# Do the randomized grid searching 10 times \n",
    "# Find the optimal combination of parameters such that the minimum mean squared error attained\n",
    "grid_obj = RandomizedSearchCV(LR, param_distributions=param_grid, cv=5, scoring='neg_mean_squared_error',\n",
    "                              n_iter = 10)\n",
    "grid_obj.fit(x_train_std, y_train)\n",
    "\n",
    "print('execution time', time.time() - start_time)"
   ]
  },
  {
   "cell_type": "code",
   "execution_count": 51,
   "metadata": {},
   "outputs": [
    {
     "data": {
      "text/plain": [
       "ElasticNet(alpha=2.194736842105263, copy_X=True, fit_intercept=True,\n",
       "      l1_ratio=0.0, max_iter=1000, normalize=False, positive=False,\n",
       "      precompute=False, random_state=None, selection='cyclic', tol=0.0001,\n",
       "      warm_start=False)"
      ]
     },
     "execution_count": 51,
     "metadata": {},
     "output_type": "execute_result"
    }
   ],
   "source": [
    "# Call back the optimal combination of parameters \n",
    "LR_best = grid_obj.best_estimator_\n",
    "LR_best"
   ]
  },
  {
   "cell_type": "code",
   "execution_count": 52,
   "metadata": {},
   "outputs": [
    {
     "name": "stderr",
     "output_type": "stream",
     "text": [
      "/anaconda3/lib/python3.6/site-packages/sklearn/utils/deprecation.py:122: FutureWarning: You are accessing a training score ('mean_train_score'), which will not be available by default any more in 0.21. If you need training scores, please set return_train_score=True\n",
      "  warnings.warn(*warn_args, **warn_kwargs)\n",
      "/anaconda3/lib/python3.6/site-packages/sklearn/utils/deprecation.py:122: FutureWarning: You are accessing a training score ('std_train_score'), which will not be available by default any more in 0.21. If you need training scores, please set return_train_score=True\n",
      "  warnings.warn(*warn_args, **warn_kwargs)\n"
     ]
    },
    {
     "data": {
      "text/html": [
       "<div>\n",
       "<style scoped>\n",
       "    .dataframe tbody tr th:only-of-type {\n",
       "        vertical-align: middle;\n",
       "    }\n",
       "\n",
       "    .dataframe tbody tr th {\n",
       "        vertical-align: top;\n",
       "    }\n",
       "\n",
       "    .dataframe thead th {\n",
       "        text-align: right;\n",
       "    }\n",
       "</style>\n",
       "<table border=\"1\" class=\"dataframe\">\n",
       "  <thead>\n",
       "    <tr style=\"text-align: right;\">\n",
       "      <th></th>\n",
       "      <th>rank</th>\n",
       "      <th>params</th>\n",
       "      <th>mean_test_score</th>\n",
       "      <th>mean_train_score</th>\n",
       "      <th>std_test_score</th>\n",
       "      <th>std_train_score</th>\n",
       "    </tr>\n",
       "  </thead>\n",
       "  <tbody>\n",
       "    <tr>\n",
       "      <th>0</th>\n",
       "      <td>3</td>\n",
       "      <td>{'l1_ratio': 0.6666666666666666, 'alpha': 18.9...</td>\n",
       "      <td>-22.469179</td>\n",
       "      <td>-22.469074</td>\n",
       "      <td>0.161976</td>\n",
       "      <td>0.040493</td>\n",
       "    </tr>\n",
       "    <tr>\n",
       "      <th>1</th>\n",
       "      <td>1</td>\n",
       "      <td>{'l1_ratio': 0.0, 'alpha': 2.194736842105263}</td>\n",
       "      <td>-13.531356</td>\n",
       "      <td>-13.512810</td>\n",
       "      <td>0.112465</td>\n",
       "      <td>0.022767</td>\n",
       "    </tr>\n",
       "    <tr>\n",
       "      <th>2</th>\n",
       "      <td>3</td>\n",
       "      <td>{'l1_ratio': 0.6666666666666666, 'alpha': 6.38...</td>\n",
       "      <td>-22.469179</td>\n",
       "      <td>-22.469074</td>\n",
       "      <td>0.161976</td>\n",
       "      <td>0.040493</td>\n",
       "    </tr>\n",
       "    <tr>\n",
       "      <th>3</th>\n",
       "      <td>3</td>\n",
       "      <td>{'l1_ratio': 0.3333333333333333, 'alpha': 10.5...</td>\n",
       "      <td>-22.469179</td>\n",
       "      <td>-22.469074</td>\n",
       "      <td>0.161976</td>\n",
       "      <td>0.040493</td>\n",
       "    </tr>\n",
       "    <tr>\n",
       "      <th>4</th>\n",
       "      <td>3</td>\n",
       "      <td>{'l1_ratio': 0.4444444444444444, 'alpha': 20.0}</td>\n",
       "      <td>-22.469179</td>\n",
       "      <td>-22.469074</td>\n",
       "      <td>0.161976</td>\n",
       "      <td>0.040493</td>\n",
       "    </tr>\n",
       "    <tr>\n",
       "      <th>5</th>\n",
       "      <td>2</td>\n",
       "      <td>{'l1_ratio': 0.0, 'alpha': 15.810526315789472}</td>\n",
       "      <td>-19.145310</td>\n",
       "      <td>-19.139044</td>\n",
       "      <td>0.146566</td>\n",
       "      <td>0.032804</td>\n",
       "    </tr>\n",
       "    <tr>\n",
       "      <th>6</th>\n",
       "      <td>3</td>\n",
       "      <td>{'l1_ratio': 0.7777777777777777, 'alpha': 16.8...</td>\n",
       "      <td>-22.469179</td>\n",
       "      <td>-22.469074</td>\n",
       "      <td>0.161976</td>\n",
       "      <td>0.040493</td>\n",
       "    </tr>\n",
       "    <tr>\n",
       "      <th>7</th>\n",
       "      <td>3</td>\n",
       "      <td>{'l1_ratio': 0.2222222222222222, 'alpha': 17.9...</td>\n",
       "      <td>-22.469179</td>\n",
       "      <td>-22.469074</td>\n",
       "      <td>0.161976</td>\n",
       "      <td>0.040493</td>\n",
       "    </tr>\n",
       "    <tr>\n",
       "      <th>8</th>\n",
       "      <td>3</td>\n",
       "      <td>{'l1_ratio': 1.0, 'alpha': 14.76315789473684}</td>\n",
       "      <td>-22.469179</td>\n",
       "      <td>-22.469074</td>\n",
       "      <td>0.161976</td>\n",
       "      <td>0.040493</td>\n",
       "    </tr>\n",
       "    <tr>\n",
       "      <th>9</th>\n",
       "      <td>3</td>\n",
       "      <td>{'l1_ratio': 0.5555555555555556, 'alpha': 13.7...</td>\n",
       "      <td>-22.469179</td>\n",
       "      <td>-22.469074</td>\n",
       "      <td>0.161976</td>\n",
       "      <td>0.040493</td>\n",
       "    </tr>\n",
       "  </tbody>\n",
       "</table>\n",
       "</div>"
      ],
      "text/plain": [
       "   rank                                             params  mean_test_score  \\\n",
       "0     3  {'l1_ratio': 0.6666666666666666, 'alpha': 18.9...       -22.469179   \n",
       "1     1      {'l1_ratio': 0.0, 'alpha': 2.194736842105263}       -13.531356   \n",
       "2     3  {'l1_ratio': 0.6666666666666666, 'alpha': 6.38...       -22.469179   \n",
       "3     3  {'l1_ratio': 0.3333333333333333, 'alpha': 10.5...       -22.469179   \n",
       "4     3    {'l1_ratio': 0.4444444444444444, 'alpha': 20.0}       -22.469179   \n",
       "5     2     {'l1_ratio': 0.0, 'alpha': 15.810526315789472}       -19.145310   \n",
       "6     3  {'l1_ratio': 0.7777777777777777, 'alpha': 16.8...       -22.469179   \n",
       "7     3  {'l1_ratio': 0.2222222222222222, 'alpha': 17.9...       -22.469179   \n",
       "8     3      {'l1_ratio': 1.0, 'alpha': 14.76315789473684}       -22.469179   \n",
       "9     3  {'l1_ratio': 0.5555555555555556, 'alpha': 13.7...       -22.469179   \n",
       "\n",
       "   mean_train_score  std_test_score  std_train_score  \n",
       "0        -22.469074        0.161976         0.040493  \n",
       "1        -13.512810        0.112465         0.022767  \n",
       "2        -22.469074        0.161976         0.040493  \n",
       "3        -22.469074        0.161976         0.040493  \n",
       "4        -22.469074        0.161976         0.040493  \n",
       "5        -19.139044        0.146566         0.032804  \n",
       "6        -22.469074        0.161976         0.040493  \n",
       "7        -22.469074        0.161976         0.040493  \n",
       "8        -22.469074        0.161976         0.040493  \n",
       "9        -22.469074        0.161976         0.040493  "
      ]
     },
     "execution_count": 52,
     "metadata": {},
     "output_type": "execute_result"
    }
   ],
   "source": [
    "grid_search_result = pd.DataFrame({'rank': grid_obj.cv_results_['rank_test_score'].tolist(),\n",
    "                                   'params': grid_obj.cv_results_['params'],\n",
    "                                   'mean_test_score': grid_obj.cv_results_['mean_test_score'],\n",
    "                                   'mean_train_score': grid_obj.cv_results_['mean_train_score'],\n",
    "                                   'std_test_score': grid_obj.cv_results_['std_test_score'],\n",
    "                                   'std_train_score': grid_obj.cv_results_['std_train_score']\n",
    "                                  })\n",
    "\n",
    "grid_search_result"
   ]
  },
  {
   "cell_type": "markdown",
   "metadata": {},
   "source": [
    "### 4.1.2 Model performance evaluation: MSE and R-squared"
   ]
  },
  {
   "cell_type": "code",
   "execution_count": 53,
   "metadata": {},
   "outputs": [
    {
     "name": "stdout",
     "output_type": "stream",
     "text": [
      "Mean squared error: 13.36\n",
      "Variance score: 0.40\n"
     ]
    },
    {
     "name": "stderr",
     "output_type": "stream",
     "text": [
      "/anaconda3/lib/python3.6/site-packages/sklearn/linear_model/coordinate_descent.py:491: ConvergenceWarning: Objective did not converge. You might want to increase the number of iterations. Fitting data with very small alpha may cause precision problems.\n",
      "  ConvergenceWarning)\n"
     ]
    }
   ],
   "source": [
    "LR_best.fit(x_train_std, y_train)\n",
    "\n",
    "# Mean squared error: 2.12, Variance score: 0.91\n",
    "\n",
    "# Make a prediction based on test data\n",
    "prediction = LR_best.predict(x_test_std)\n",
    "\n",
    "# MSE (mean squared error)\n",
    "print(\"Mean squared error: %.2f\"\n",
    "      % mean_squared_error(y_test, prediction))\n",
    "# R-square \n",
    "print('Variance score: %.2f' % r2_score(y_test, prediction))"
   ]
  },
  {
   "cell_type": "markdown",
   "metadata": {},
   "source": [
    "### 4.2 Bagged Decision Tree Regression\n",
    "- BaggingRegressor sklearn documentation: http://scikit-learn.org/stable/modules/generated/sklearn.ensemble.BaggingRegressor.html"
   ]
  },
  {
   "cell_type": "code",
   "execution_count": 14,
   "metadata": {},
   "outputs": [
    {
     "data": {
      "text/plain": [
       "BaggingRegressor(base_estimator=DecisionTreeRegressor(criterion='mse', max_depth=None, max_features=None,\n",
       "           max_leaf_nodes=None, min_impurity_decrease=0.0,\n",
       "           min_impurity_split=None, min_samples_leaf=1,\n",
       "           min_samples_split=2, min_weight_fraction_leaf=0.0,\n",
       "           presort=False, random_state=None, splitter='best'),\n",
       "         bootstrap=True, bootstrap_features=False, max_features=1.0,\n",
       "         max_samples=1.0, n_estimators=100, n_jobs=1, oob_score=False,\n",
       "         random_state=None, verbose=0, warm_start=False)"
      ]
     },
     "execution_count": 14,
     "metadata": {},
     "output_type": "execute_result"
    }
   ],
   "source": [
    "from sklearn.tree import DecisionTreeRegressor\n",
    "from sklearn.ensemble import BaggingRegressor\n",
    "\n",
    "# Construct a decision tree regression model\n",
    "tree_reg = DecisionTreeRegressor()\n",
    "\n",
    "# Use the decision tree regression model as the base estimator\n",
    "bag_reg = BaggingRegressor(base_estimator = tree_reg, n_estimators=100)\n",
    "bag_reg.fit(x_train_std, y_train)"
   ]
  },
  {
   "cell_type": "code",
   "execution_count": 15,
   "metadata": {},
   "outputs": [],
   "source": [
    "# Make a prediction based on test data\n",
    "prediction = bag_reg.predict(x_test_std)"
   ]
  },
  {
   "cell_type": "code",
   "execution_count": 16,
   "metadata": {},
   "outputs": [
    {
     "name": "stdout",
     "output_type": "stream",
     "text": [
      "Mean squared error: 10.17\n",
      "Variance score: 0.54\n"
     ]
    }
   ],
   "source": [
    "# Print out important metrics\n",
    "# Mean squared error: 1.16, Variance score: 0.95\n",
    "from sklearn.metrics import mean_squared_error, r2_score\n",
    "\n",
    "print(\"Mean squared error: %.2f\"\n",
    "      % mean_squared_error(y_test, prediction))\n",
    "print('Variance score: %.2f' % r2_score(y_test, prediction))"
   ]
  },
  {
   "cell_type": "markdown",
   "metadata": {},
   "source": [
    "### 4.2.1 Randomized Grid Search - Bagged Decision Tree Regression"
   ]
  },
  {
   "cell_type": "code",
   "execution_count": 17,
   "metadata": {},
   "outputs": [
    {
     "name": "stdout",
     "output_type": "stream",
     "text": [
      "execution time 2366.6097869873047\n"
     ]
    }
   ],
   "source": [
    "from sklearn.model_selection import RandomizedSearchCV\n",
    "# Record the randomized grid searching time\n",
    "start_time = time.time()\n",
    "\n",
    "# Construct a decision tree regression model\n",
    "tree_reg = DecisionTreeRegressor()\n",
    "\n",
    "# Use the decision tree regression model as the base estimator\n",
    "bag_reg = BaggingRegressor(base_estimator = tree_reg)\n",
    "\n",
    "# Construct ranges for each parameter \n",
    "param_grid = {\n",
    "    'base_estimator__max_depth' : [i for i in range(1, 26, 5)],\n",
    "    'base_estimator__min_samples_leaf': [i for i in range(1, 51, 10)],\n",
    "    'max_samples': [0.8,0.9,1.0],\n",
    "    'max_features': [0.8,0.9,1.0]\n",
    "}\n",
    "\n",
    "# Do the randomized grid searching 10 times \n",
    "# Find the optimal combination of parameters such that the minimum mean squared error attained\n",
    "grid_obj = RandomizedSearchCV(bag_reg, param_distributions=param_grid, cv=5, scoring='neg_mean_squared_error',\n",
    "                              n_iter = 10)\n",
    "grid_obj.fit(x_train_std, y_train)\n",
    "\n",
    "print('execution time', time.time() - start_time)"
   ]
  },
  {
   "cell_type": "code",
   "execution_count": 18,
   "metadata": {},
   "outputs": [
    {
     "data": {
      "text/plain": [
       "BaggingRegressor(base_estimator=DecisionTreeRegressor(criterion='mse', max_depth=16, max_features=None,\n",
       "           max_leaf_nodes=None, min_impurity_decrease=0.0,\n",
       "           min_impurity_split=None, min_samples_leaf=11,\n",
       "           min_samples_split=2, min_weight_fraction_leaf=0.0,\n",
       "           presort=False, random_state=None, splitter='best'),\n",
       "         bootstrap=True, bootstrap_features=False, max_features=0.9,\n",
       "         max_samples=1.0, n_estimators=10, n_jobs=1, oob_score=False,\n",
       "         random_state=None, verbose=0, warm_start=False)"
      ]
     },
     "execution_count": 18,
     "metadata": {},
     "output_type": "execute_result"
    }
   ],
   "source": [
    "# Call back the optimal combination of parameters \n",
    "bag_best_reg = grid_obj.best_estimator_\n",
    "bag_best_reg"
   ]
  },
  {
   "cell_type": "code",
   "execution_count": 19,
   "metadata": {},
   "outputs": [
    {
     "name": "stderr",
     "output_type": "stream",
     "text": [
      "/anaconda3/lib/python3.6/site-packages/sklearn/utils/deprecation.py:122: FutureWarning: You are accessing a training score ('mean_train_score'), which will not be available by default any more in 0.21. If you need training scores, please set return_train_score=True\n",
      "  warnings.warn(*warn_args, **warn_kwargs)\n",
      "/anaconda3/lib/python3.6/site-packages/sklearn/utils/deprecation.py:122: FutureWarning: You are accessing a training score ('std_train_score'), which will not be available by default any more in 0.21. If you need training scores, please set return_train_score=True\n",
      "  warnings.warn(*warn_args, **warn_kwargs)\n"
     ]
    }
   ],
   "source": [
    "grid_search_result = pd.DataFrame({'rank': grid_obj.cv_results_['rank_test_score'].tolist(),\n",
    "                                   'params': grid_obj.cv_results_['params'],\n",
    "                                   'mean_test_score': grid_obj.cv_results_['mean_test_score'],\n",
    "                                   'mean_train_score': grid_obj.cv_results_['mean_train_score'],\n",
    "                                   'std_test_score': grid_obj.cv_results_['std_test_score'],\n",
    "                                   'std_train_score': grid_obj.cv_results_['std_train_score']\n",
    "                                  })"
   ]
  },
  {
   "cell_type": "code",
   "execution_count": 20,
   "metadata": {
    "scrolled": true
   },
   "outputs": [
    {
     "data": {
      "text/html": [
       "<div>\n",
       "<style scoped>\n",
       "    .dataframe tbody tr th:only-of-type {\n",
       "        vertical-align: middle;\n",
       "    }\n",
       "\n",
       "    .dataframe tbody tr th {\n",
       "        vertical-align: top;\n",
       "    }\n",
       "\n",
       "    .dataframe thead th {\n",
       "        text-align: right;\n",
       "    }\n",
       "</style>\n",
       "<table border=\"1\" class=\"dataframe\">\n",
       "  <thead>\n",
       "    <tr style=\"text-align: right;\">\n",
       "      <th></th>\n",
       "      <th>rank</th>\n",
       "      <th>params</th>\n",
       "      <th>mean_test_score</th>\n",
       "      <th>mean_train_score</th>\n",
       "      <th>std_test_score</th>\n",
       "      <th>std_train_score</th>\n",
       "    </tr>\n",
       "  </thead>\n",
       "  <tbody>\n",
       "    <tr>\n",
       "      <th>0</th>\n",
       "      <td>7</td>\n",
       "      <td>{'max_samples': 0.9, 'max_features': 0.9, 'bas...</td>\n",
       "      <td>-12.817627</td>\n",
       "      <td>-12.527170</td>\n",
       "      <td>0.103495</td>\n",
       "      <td>0.072841</td>\n",
       "    </tr>\n",
       "    <tr>\n",
       "      <th>1</th>\n",
       "      <td>3</td>\n",
       "      <td>{'max_samples': 0.8, 'max_features': 0.8, 'bas...</td>\n",
       "      <td>-10.992948</td>\n",
       "      <td>-6.939809</td>\n",
       "      <td>0.093946</td>\n",
       "      <td>0.056890</td>\n",
       "    </tr>\n",
       "    <tr>\n",
       "      <th>2</th>\n",
       "      <td>9</td>\n",
       "      <td>{'max_samples': 1.0, 'max_features': 1.0, 'bas...</td>\n",
       "      <td>-18.472225</td>\n",
       "      <td>-18.440933</td>\n",
       "      <td>0.438106</td>\n",
       "      <td>0.340888</td>\n",
       "    </tr>\n",
       "    <tr>\n",
       "      <th>3</th>\n",
       "      <td>6</td>\n",
       "      <td>{'max_samples': 1.0, 'max_features': 1.0, 'bas...</td>\n",
       "      <td>-11.410948</td>\n",
       "      <td>-2.312658</td>\n",
       "      <td>0.110134</td>\n",
       "      <td>0.016048</td>\n",
       "    </tr>\n",
       "    <tr>\n",
       "      <th>4</th>\n",
       "      <td>2</td>\n",
       "      <td>{'max_samples': 1.0, 'max_features': 1.0, 'bas...</td>\n",
       "      <td>-10.905594</td>\n",
       "      <td>-6.277982</td>\n",
       "      <td>0.111962</td>\n",
       "      <td>0.016215</td>\n",
       "    </tr>\n",
       "    <tr>\n",
       "      <th>5</th>\n",
       "      <td>10</td>\n",
       "      <td>{'max_samples': 0.8, 'max_features': 1.0, 'bas...</td>\n",
       "      <td>-18.608149</td>\n",
       "      <td>-18.566480</td>\n",
       "      <td>0.405653</td>\n",
       "      <td>0.315950</td>\n",
       "    </tr>\n",
       "    <tr>\n",
       "      <th>6</th>\n",
       "      <td>1</td>\n",
       "      <td>{'max_samples': 1.0, 'max_features': 0.9, 'bas...</td>\n",
       "      <td>-10.880994</td>\n",
       "      <td>-6.567625</td>\n",
       "      <td>0.094300</td>\n",
       "      <td>0.042947</td>\n",
       "    </tr>\n",
       "    <tr>\n",
       "      <th>7</th>\n",
       "      <td>4</td>\n",
       "      <td>{'max_samples': 1.0, 'max_features': 0.9, 'bas...</td>\n",
       "      <td>-11.068658</td>\n",
       "      <td>-9.351518</td>\n",
       "      <td>0.126304</td>\n",
       "      <td>0.049780</td>\n",
       "    </tr>\n",
       "    <tr>\n",
       "      <th>8</th>\n",
       "      <td>8</td>\n",
       "      <td>{'max_samples': 0.8, 'max_features': 1.0, 'bas...</td>\n",
       "      <td>-12.971044</td>\n",
       "      <td>-12.708114</td>\n",
       "      <td>0.074791</td>\n",
       "      <td>0.024243</td>\n",
       "    </tr>\n",
       "    <tr>\n",
       "      <th>9</th>\n",
       "      <td>5</td>\n",
       "      <td>{'max_samples': 1.0, 'max_features': 1.0, 'bas...</td>\n",
       "      <td>-11.182568</td>\n",
       "      <td>-9.236533</td>\n",
       "      <td>0.066181</td>\n",
       "      <td>0.037754</td>\n",
       "    </tr>\n",
       "  </tbody>\n",
       "</table>\n",
       "</div>"
      ],
      "text/plain": [
       "   rank                                             params  mean_test_score  \\\n",
       "0     7  {'max_samples': 0.9, 'max_features': 0.9, 'bas...       -12.817627   \n",
       "1     3  {'max_samples': 0.8, 'max_features': 0.8, 'bas...       -10.992948   \n",
       "2     9  {'max_samples': 1.0, 'max_features': 1.0, 'bas...       -18.472225   \n",
       "3     6  {'max_samples': 1.0, 'max_features': 1.0, 'bas...       -11.410948   \n",
       "4     2  {'max_samples': 1.0, 'max_features': 1.0, 'bas...       -10.905594   \n",
       "5    10  {'max_samples': 0.8, 'max_features': 1.0, 'bas...       -18.608149   \n",
       "6     1  {'max_samples': 1.0, 'max_features': 0.9, 'bas...       -10.880994   \n",
       "7     4  {'max_samples': 1.0, 'max_features': 0.9, 'bas...       -11.068658   \n",
       "8     8  {'max_samples': 0.8, 'max_features': 1.0, 'bas...       -12.971044   \n",
       "9     5  {'max_samples': 1.0, 'max_features': 1.0, 'bas...       -11.182568   \n",
       "\n",
       "   mean_train_score  std_test_score  std_train_score  \n",
       "0        -12.527170        0.103495         0.072841  \n",
       "1         -6.939809        0.093946         0.056890  \n",
       "2        -18.440933        0.438106         0.340888  \n",
       "3         -2.312658        0.110134         0.016048  \n",
       "4         -6.277982        0.111962         0.016215  \n",
       "5        -18.566480        0.405653         0.315950  \n",
       "6         -6.567625        0.094300         0.042947  \n",
       "7         -9.351518        0.126304         0.049780  \n",
       "8        -12.708114        0.074791         0.024243  \n",
       "9         -9.236533        0.066181         0.037754  "
      ]
     },
     "execution_count": 20,
     "metadata": {},
     "output_type": "execute_result"
    }
   ],
   "source": [
    "grid_search_result"
   ]
  },
  {
   "cell_type": "markdown",
   "metadata": {},
   "source": [
    "### 4.2.2 Model performance evaluation: MSE and R-squared"
   ]
  },
  {
   "cell_type": "code",
   "execution_count": 21,
   "metadata": {},
   "outputs": [
    {
     "data": {
      "text/plain": [
       "BaggingRegressor(base_estimator=DecisionTreeRegressor(criterion='mse', max_depth=16, max_features=None,\n",
       "           max_leaf_nodes=None, min_impurity_decrease=0.0,\n",
       "           min_impurity_split=None, min_samples_leaf=11,\n",
       "           min_samples_split=2, min_weight_fraction_leaf=0.0,\n",
       "           presort=False, random_state=None, splitter='best'),\n",
       "         bootstrap=True, bootstrap_features=False, max_features=0.9,\n",
       "         max_samples=1.0, n_estimators=10, n_jobs=1, oob_score=False,\n",
       "         random_state=None, verbose=0, warm_start=False)"
      ]
     },
     "execution_count": 21,
     "metadata": {},
     "output_type": "execute_result"
    }
   ],
   "source": [
    "# Fit the train data with the best estimator again \n",
    "bag_best_reg.fit(x_train_std, y_train)"
   ]
  },
  {
   "cell_type": "code",
   "execution_count": 22,
   "metadata": {},
   "outputs": [
    {
     "name": "stdout",
     "output_type": "stream",
     "text": [
      "Mean squared error: 10.7262\n",
      "Variance score: 0.5198\n"
     ]
    }
   ],
   "source": [
    "# Mean squared error: 1.6730, Variance score: 0.9251\n",
    "\n",
    "# Make a prediction based on test data\n",
    "prediction = bag_best_reg.predict(x_test_std)\n",
    "\n",
    "# MSE (mean squared error)\n",
    "print(\"Mean squared error: %.4f\"\n",
    "      % mean_squared_error(y_test, prediction))\n",
    "\n",
    "# R-square \n",
    "print('Variance score: %.4f' % r2_score(y_test, prediction))"
   ]
  },
  {
   "cell_type": "markdown",
   "metadata": {},
   "source": [
    "### 4.3 Random Forest Regression\n",
    "- RandomForestRegressor sklearn documentation http://scikit-learn.org/stable/modules/generated/sklearn.ensemble.RandomForestRegressor.html"
   ]
  },
  {
   "cell_type": "code",
   "execution_count": 23,
   "metadata": {},
   "outputs": [
    {
     "data": {
      "text/plain": [
       "RandomForestRegressor(bootstrap=True, criterion='mse', max_depth=25,\n",
       "           max_features='auto', max_leaf_nodes=None,\n",
       "           min_impurity_decrease=0.0, min_impurity_split=None,\n",
       "           min_samples_leaf=5, min_samples_split=2,\n",
       "           min_weight_fraction_leaf=0.0, n_estimators=100, n_jobs=1,\n",
       "           oob_score=False, random_state=0, verbose=0, warm_start=False)"
      ]
     },
     "execution_count": 23,
     "metadata": {},
     "output_type": "execute_result"
    }
   ],
   "source": [
    "from sklearn.ensemble import RandomForestRegressor\n",
    "\n",
    "# Use a good start of parameter combination\n",
    "RF_reg = RandomForestRegressor(n_estimators = 100, max_depth = 25, min_samples_leaf = 5, random_state = 0)\n",
    "RF_reg.fit(x_train_std, y_train)"
   ]
  },
  {
   "cell_type": "code",
   "execution_count": 24,
   "metadata": {},
   "outputs": [],
   "source": [
    "prediction = RF_reg.predict(x_test_std)"
   ]
  },
  {
   "cell_type": "code",
   "execution_count": 25,
   "metadata": {},
   "outputs": [
    {
     "name": "stdout",
     "output_type": "stream",
     "text": [
      "Mean squared error: 10.1508\n",
      "Variance score: 0.5455\n"
     ]
    }
   ],
   "source": [
    "# Print out important metrics\n",
    "# Mean squared error: 1.20, Variance score: 0.95\n",
    "print(\"Mean squared error: %.4f\"\n",
    "      % mean_squared_error(y_test, prediction))\n",
    "print('Variance score: %.4f' % r2_score(y_test, prediction))"
   ]
  },
  {
   "cell_type": "markdown",
   "metadata": {},
   "source": [
    "### 4.3.1 Randomized Grid Search - Random Forest Regression"
   ]
  },
  {
   "cell_type": "code",
   "execution_count": 26,
   "metadata": {},
   "outputs": [
    {
     "name": "stdout",
     "output_type": "stream",
     "text": [
      "execution time 2269.9380991458893\n"
     ]
    }
   ],
   "source": [
    "# Record the randomized grid searching time\n",
    "start_time = time.time()\n",
    "\n",
    "# Construct a decision tree regression model\n",
    "RF_reg = RandomForestRegressor()\n",
    "\n",
    "# Construct ranges for each parameter \n",
    "param_grid = {'n_estimators': [50,100, 150],\n",
    "              'max_features': [i for i in range(1, 51, 10)],\n",
    "              'max_depth': [i for i in range(1, 31, 10)],\n",
    "              'min_samples_leaf': [i for i in range(1, 51, 10)]\n",
    "             }\n",
    "\n",
    "# Do the randomized grid searching 10 times \n",
    "# Find the optimal combination of parameters such that the minimum mean squared error attained\n",
    "grid_obj = RandomizedSearchCV(RF_reg, param_distributions=param_grid, cv=5, scoring='neg_mean_squared_error',\n",
    "                              n_iter = 10)\n",
    "grid_obj.fit(x_train_std, y_train)\n",
    "\n",
    "print('execution time', time.time() - start_time)"
   ]
  },
  {
   "cell_type": "code",
   "execution_count": 27,
   "metadata": {},
   "outputs": [
    {
     "data": {
      "text/plain": [
       "RandomForestRegressor(bootstrap=True, criterion='mse', max_depth=21,\n",
       "           max_features=41, max_leaf_nodes=None, min_impurity_decrease=0.0,\n",
       "           min_impurity_split=None, min_samples_leaf=1,\n",
       "           min_samples_split=2, min_weight_fraction_leaf=0.0,\n",
       "           n_estimators=100, n_jobs=1, oob_score=False, random_state=None,\n",
       "           verbose=0, warm_start=False)"
      ]
     },
     "execution_count": 27,
     "metadata": {},
     "output_type": "execute_result"
    }
   ],
   "source": [
    "# Call back the optimal combination of parameters \n",
    "RF_best_reg = grid_obj.best_estimator_\n",
    "RF_best_reg"
   ]
  },
  {
   "cell_type": "code",
   "execution_count": 28,
   "metadata": {},
   "outputs": [
    {
     "name": "stderr",
     "output_type": "stream",
     "text": [
      "/anaconda3/lib/python3.6/site-packages/sklearn/utils/deprecation.py:122: FutureWarning: You are accessing a training score ('mean_train_score'), which will not be available by default any more in 0.21. If you need training scores, please set return_train_score=True\n",
      "  warnings.warn(*warn_args, **warn_kwargs)\n",
      "/anaconda3/lib/python3.6/site-packages/sklearn/utils/deprecation.py:122: FutureWarning: You are accessing a training score ('std_train_score'), which will not be available by default any more in 0.21. If you need training scores, please set return_train_score=True\n",
      "  warnings.warn(*warn_args, **warn_kwargs)\n"
     ]
    }
   ],
   "source": [
    "grid_search_result = pd.DataFrame({'rank': grid_obj.cv_results_['rank_test_score'].tolist(),\n",
    "                                   'params': grid_obj.cv_results_['params'],\n",
    "                                   'mean_test_score': grid_obj.cv_results_['mean_test_score'],\n",
    "                                   'mean_train_score': grid_obj.cv_results_['mean_train_score'],\n",
    "                                   'std_test_score': grid_obj.cv_results_['std_test_score'],\n",
    "                                   'std_train_score': grid_obj.cv_results_['std_train_score']\n",
    "                                  })"
   ]
  },
  {
   "cell_type": "code",
   "execution_count": 29,
   "metadata": {
    "scrolled": true
   },
   "outputs": [
    {
     "data": {
      "text/html": [
       "<div>\n",
       "<style scoped>\n",
       "    .dataframe tbody tr th:only-of-type {\n",
       "        vertical-align: middle;\n",
       "    }\n",
       "\n",
       "    .dataframe tbody tr th {\n",
       "        vertical-align: top;\n",
       "    }\n",
       "\n",
       "    .dataframe thead th {\n",
       "        text-align: right;\n",
       "    }\n",
       "</style>\n",
       "<table border=\"1\" class=\"dataframe\">\n",
       "  <thead>\n",
       "    <tr style=\"text-align: right;\">\n",
       "      <th></th>\n",
       "      <th>rank</th>\n",
       "      <th>params</th>\n",
       "      <th>mean_test_score</th>\n",
       "      <th>mean_train_score</th>\n",
       "      <th>std_test_score</th>\n",
       "      <th>std_train_score</th>\n",
       "    </tr>\n",
       "  </thead>\n",
       "  <tbody>\n",
       "    <tr>\n",
       "      <th>0</th>\n",
       "      <td>5</td>\n",
       "      <td>{'n_estimators': 100, 'min_samples_leaf': 1, '...</td>\n",
       "      <td>-16.075842</td>\n",
       "      <td>-10.024599</td>\n",
       "      <td>0.201790</td>\n",
       "      <td>0.106279</td>\n",
       "    </tr>\n",
       "    <tr>\n",
       "      <th>1</th>\n",
       "      <td>1</td>\n",
       "      <td>{'n_estimators': 100, 'min_samples_leaf': 1, '...</td>\n",
       "      <td>-10.377228</td>\n",
       "      <td>-1.723638</td>\n",
       "      <td>0.079235</td>\n",
       "      <td>0.006138</td>\n",
       "    </tr>\n",
       "    <tr>\n",
       "      <th>2</th>\n",
       "      <td>4</td>\n",
       "      <td>{'n_estimators': 100, 'min_samples_leaf': 31, ...</td>\n",
       "      <td>-12.642453</td>\n",
       "      <td>-11.634200</td>\n",
       "      <td>0.156994</td>\n",
       "      <td>0.063174</td>\n",
       "    </tr>\n",
       "    <tr>\n",
       "      <th>3</th>\n",
       "      <td>3</td>\n",
       "      <td>{'n_estimators': 100, 'min_samples_leaf': 31, ...</td>\n",
       "      <td>-11.641774</td>\n",
       "      <td>-10.467776</td>\n",
       "      <td>0.092266</td>\n",
       "      <td>0.052260</td>\n",
       "    </tr>\n",
       "    <tr>\n",
       "      <th>4</th>\n",
       "      <td>6</td>\n",
       "      <td>{'n_estimators': 100, 'min_samples_leaf': 21, ...</td>\n",
       "      <td>-18.750401</td>\n",
       "      <td>-18.737609</td>\n",
       "      <td>0.129039</td>\n",
       "      <td>0.097693</td>\n",
       "    </tr>\n",
       "    <tr>\n",
       "      <th>5</th>\n",
       "      <td>2</td>\n",
       "      <td>{'n_estimators': 150, 'min_samples_leaf': 11, ...</td>\n",
       "      <td>-10.954935</td>\n",
       "      <td>-7.515665</td>\n",
       "      <td>0.096725</td>\n",
       "      <td>0.021143</td>\n",
       "    </tr>\n",
       "    <tr>\n",
       "      <th>6</th>\n",
       "      <td>9</td>\n",
       "      <td>{'n_estimators': 100, 'min_samples_leaf': 21, ...</td>\n",
       "      <td>-19.764756</td>\n",
       "      <td>-19.750239</td>\n",
       "      <td>0.086933</td>\n",
       "      <td>0.255777</td>\n",
       "    </tr>\n",
       "    <tr>\n",
       "      <th>7</th>\n",
       "      <td>8</td>\n",
       "      <td>{'n_estimators': 150, 'min_samples_leaf': 21, ...</td>\n",
       "      <td>-19.686986</td>\n",
       "      <td>-19.673243</td>\n",
       "      <td>0.248970</td>\n",
       "      <td>0.113191</td>\n",
       "    </tr>\n",
       "    <tr>\n",
       "      <th>8</th>\n",
       "      <td>7</td>\n",
       "      <td>{'n_estimators': 50, 'min_samples_leaf': 21, '...</td>\n",
       "      <td>-18.861622</td>\n",
       "      <td>-18.850428</td>\n",
       "      <td>0.135566</td>\n",
       "      <td>0.105607</td>\n",
       "    </tr>\n",
       "    <tr>\n",
       "      <th>9</th>\n",
       "      <td>10</td>\n",
       "      <td>{'n_estimators': 50, 'min_samples_leaf': 31, '...</td>\n",
       "      <td>-20.424815</td>\n",
       "      <td>-20.417709</td>\n",
       "      <td>0.124678</td>\n",
       "      <td>0.229094</td>\n",
       "    </tr>\n",
       "  </tbody>\n",
       "</table>\n",
       "</div>"
      ],
      "text/plain": [
       "   rank                                             params  mean_test_score  \\\n",
       "0     5  {'n_estimators': 100, 'min_samples_leaf': 1, '...       -16.075842   \n",
       "1     1  {'n_estimators': 100, 'min_samples_leaf': 1, '...       -10.377228   \n",
       "2     4  {'n_estimators': 100, 'min_samples_leaf': 31, ...       -12.642453   \n",
       "3     3  {'n_estimators': 100, 'min_samples_leaf': 31, ...       -11.641774   \n",
       "4     6  {'n_estimators': 100, 'min_samples_leaf': 21, ...       -18.750401   \n",
       "5     2  {'n_estimators': 150, 'min_samples_leaf': 11, ...       -10.954935   \n",
       "6     9  {'n_estimators': 100, 'min_samples_leaf': 21, ...       -19.764756   \n",
       "7     8  {'n_estimators': 150, 'min_samples_leaf': 21, ...       -19.686986   \n",
       "8     7  {'n_estimators': 50, 'min_samples_leaf': 21, '...       -18.861622   \n",
       "9    10  {'n_estimators': 50, 'min_samples_leaf': 31, '...       -20.424815   \n",
       "\n",
       "   mean_train_score  std_test_score  std_train_score  \n",
       "0        -10.024599        0.201790         0.106279  \n",
       "1         -1.723638        0.079235         0.006138  \n",
       "2        -11.634200        0.156994         0.063174  \n",
       "3        -10.467776        0.092266         0.052260  \n",
       "4        -18.737609        0.129039         0.097693  \n",
       "5         -7.515665        0.096725         0.021143  \n",
       "6        -19.750239        0.086933         0.255777  \n",
       "7        -19.673243        0.248970         0.113191  \n",
       "8        -18.850428        0.135566         0.105607  \n",
       "9        -20.417709        0.124678         0.229094  "
      ]
     },
     "execution_count": 29,
     "metadata": {},
     "output_type": "execute_result"
    }
   ],
   "source": [
    "grid_search_result"
   ]
  },
  {
   "cell_type": "markdown",
   "metadata": {},
   "source": [
    "### 4.3.2 Model performance evaluation: MSE and R-squared"
   ]
  },
  {
   "cell_type": "code",
   "execution_count": 30,
   "metadata": {},
   "outputs": [
    {
     "data": {
      "text/plain": [
       "RandomForestRegressor(bootstrap=True, criterion='mse', max_depth=21,\n",
       "           max_features=41, max_leaf_nodes=None, min_impurity_decrease=0.0,\n",
       "           min_impurity_split=None, min_samples_leaf=1,\n",
       "           min_samples_split=2, min_weight_fraction_leaf=0.0,\n",
       "           n_estimators=100, n_jobs=1, oob_score=False, random_state=None,\n",
       "           verbose=0, warm_start=False)"
      ]
     },
     "execution_count": 30,
     "metadata": {},
     "output_type": "execute_result"
    }
   ],
   "source": [
    "RF_best_reg.fit(x_train_std, y_train)"
   ]
  },
  {
   "cell_type": "code",
   "execution_count": 31,
   "metadata": {},
   "outputs": [
    {
     "name": "stdout",
     "output_type": "stream",
     "text": [
      "Mean squared error: 10.18\n",
      "Variance score: 0.54\n"
     ]
    }
   ],
   "source": [
    "# Mean squared error: 2.12, Variance score: 0.91\n",
    "\n",
    "# Make a prediction based on test data\n",
    "prediction = RF_best_reg.predict(x_test_std)\n",
    "\n",
    "# MSE (mean squared error)\n",
    "print(\"Mean squared error: %.2f\"\n",
    "      % mean_squared_error(y_test, prediction))\n",
    "# R-square \n",
    "print('Variance score: %.2f' % r2_score(y_test, prediction))"
   ]
  },
  {
   "cell_type": "code",
   "execution_count": 32,
   "metadata": {
    "scrolled": true
   },
   "outputs": [
    {
     "data": {
      "text/html": [
       "<div>\n",
       "<style scoped>\n",
       "    .dataframe tbody tr th:only-of-type {\n",
       "        vertical-align: middle;\n",
       "    }\n",
       "\n",
       "    .dataframe tbody tr th {\n",
       "        vertical-align: top;\n",
       "    }\n",
       "\n",
       "    .dataframe thead th {\n",
       "        text-align: right;\n",
       "    }\n",
       "</style>\n",
       "<table border=\"1\" class=\"dataframe\">\n",
       "  <thead>\n",
       "    <tr style=\"text-align: right;\">\n",
       "      <th></th>\n",
       "      <th>feature</th>\n",
       "      <th>importance</th>\n",
       "    </tr>\n",
       "  </thead>\n",
       "  <tbody>\n",
       "    <tr>\n",
       "      <th>1</th>\n",
       "      <td>term</td>\n",
       "      <td>0.116206</td>\n",
       "    </tr>\n",
       "    <tr>\n",
       "      <th>29</th>\n",
       "      <td>bc_open_to_buy</td>\n",
       "      <td>0.076572</td>\n",
       "    </tr>\n",
       "    <tr>\n",
       "      <th>49</th>\n",
       "      <td>percent_bc_gt_75</td>\n",
       "      <td>0.045511</td>\n",
       "    </tr>\n",
       "    <tr>\n",
       "      <th>30</th>\n",
       "      <td>bc_util</td>\n",
       "      <td>0.044976</td>\n",
       "    </tr>\n",
       "    <tr>\n",
       "      <th>22</th>\n",
       "      <td>all_util</td>\n",
       "      <td>0.036681</td>\n",
       "    </tr>\n",
       "    <tr>\n",
       "      <th>3</th>\n",
       "      <td>dti</td>\n",
       "      <td>0.035668</td>\n",
       "    </tr>\n",
       "    <tr>\n",
       "      <th>7</th>\n",
       "      <td>revol_util</td>\n",
       "      <td>0.032479</td>\n",
       "    </tr>\n",
       "    <tr>\n",
       "      <th>52</th>\n",
       "      <td>total_bc_limit</td>\n",
       "      <td>0.027292</td>\n",
       "    </tr>\n",
       "    <tr>\n",
       "      <th>23</th>\n",
       "      <td>total_rev_hi_lim</td>\n",
       "      <td>0.025823</td>\n",
       "    </tr>\n",
       "    <tr>\n",
       "      <th>57</th>\n",
       "      <td>disbursement_method</td>\n",
       "      <td>0.022487</td>\n",
       "    </tr>\n",
       "  </tbody>\n",
       "</table>\n",
       "</div>"
      ],
      "text/plain": [
       "                feature  importance\n",
       "1                  term    0.116206\n",
       "29       bc_open_to_buy    0.076572\n",
       "49     percent_bc_gt_75    0.045511\n",
       "30              bc_util    0.044976\n",
       "22             all_util    0.036681\n",
       "3                   dti    0.035668\n",
       "7            revol_util    0.032479\n",
       "52       total_bc_limit    0.027292\n",
       "23     total_rev_hi_lim    0.025823\n",
       "57  disbursement_method    0.022487"
      ]
     },
     "execution_count": 32,
     "metadata": {},
     "output_type": "execute_result"
    }
   ],
   "source": [
    "# Feature importance by Random Forest\n",
    "df_coeffs = pd.DataFrame(list(zip(x.columns, RF_best_reg.feature_importances_.flatten()))).sort_values(by=[1], ascending=False)\n",
    "df_coeffs.columns = ['feature', 'importance']\n",
    "df_coeffs.head(10)"
   ]
  },
  {
   "cell_type": "markdown",
   "metadata": {},
   "source": [
    "### 4.4 Gradient Boosting Regression\n",
    "- GradientBoostingRegressor sklearn documentation: http://scikit-learn.org/stable/modules/generated/sklearn.ensemble.GradientBoostingRegressor.html"
   ]
  },
  {
   "cell_type": "code",
   "execution_count": 33,
   "metadata": {},
   "outputs": [],
   "source": [
    "from sklearn.ensemble import GradientBoostingRegressor\n",
    "\n",
    "# Use a good start of parameter combination\n",
    "parameters = {\n",
    "    'n_estimators': 100,\n",
    "    'max_depth': 5,\n",
    "    'learning_rate': 0.1,\n",
    "    'subsample': 0.7,\n",
    "    'max_features':0.8,\n",
    "    'random_state': 0\n",
    "}\n",
    "\n",
    "GBDT_reg = GradientBoostingRegressor(**parameters)"
   ]
  },
  {
   "cell_type": "code",
   "execution_count": 34,
   "metadata": {},
   "outputs": [
    {
     "data": {
      "text/plain": [
       "GradientBoostingRegressor(alpha=0.9, criterion='friedman_mse', init=None,\n",
       "             learning_rate=0.1, loss='ls', max_depth=5, max_features=0.8,\n",
       "             max_leaf_nodes=None, min_impurity_decrease=0.0,\n",
       "             min_impurity_split=None, min_samples_leaf=1,\n",
       "             min_samples_split=2, min_weight_fraction_leaf=0.0,\n",
       "             n_estimators=100, presort='auto', random_state=0,\n",
       "             subsample=0.7, verbose=0, warm_start=False)"
      ]
     },
     "execution_count": 34,
     "metadata": {},
     "output_type": "execute_result"
    }
   ],
   "source": [
    "GBDT_reg.fit(x_train_std, y_train)"
   ]
  },
  {
   "cell_type": "code",
   "execution_count": 35,
   "metadata": {},
   "outputs": [
    {
     "name": "stdout",
     "output_type": "stream",
     "text": [
      "Mean squared error: 9.33\n",
      "Variance score: 0.58\n"
     ]
    }
   ],
   "source": [
    "# Print out important metrics\n",
    "# Mean squared error: 1.19, Variance score: 0.95\n",
    "\n",
    "prediction = GBDT_reg.predict(x_test_std)\n",
    "print(\"Mean squared error: %.2f\"\n",
    "      % mean_squared_error(y_test, prediction))\n",
    "print('Variance score: %.2f' % r2_score(y_test, prediction))"
   ]
  },
  {
   "cell_type": "markdown",
   "metadata": {},
   "source": [
    "### 4.4.1 Randomized Grid Search - GB regression"
   ]
  },
  {
   "cell_type": "code",
   "execution_count": 36,
   "metadata": {},
   "outputs": [
    {
     "name": "stdout",
     "output_type": "stream",
     "text": [
      "execution time 10369.332286834717\n"
     ]
    }
   ],
   "source": [
    "# Record the randomized grid searching time\n",
    "start_time = time.time()\n",
    "\n",
    "# Initiate the GB regression\n",
    "GBDT_reg = GradientBoostingRegressor()\n",
    "\n",
    "# Construct ranges for each parameter \n",
    "param_grid = {'n_estimators': [50, 100,150],\n",
    "              'max_depth': [3,4,5,6],\n",
    "              'learning_rate': [i * 0.01 for i in range(1, 101, 10)],\n",
    "              'subsample': [0.8,0.9],\n",
    "              'max_features': [0.8,0.9]\n",
    "             }\n",
    "\n",
    "# Do the randomized grid searching 10 times \n",
    "# Find the optimal combination of parameters such that the minimum mean squared error attained\n",
    "grid_obj = RandomizedSearchCV(GBDT_reg, param_distributions=param_grid, cv=5, scoring='neg_mean_squared_error',\n",
    "                              n_iter = 10)\n",
    "grid_obj.fit(x_train_std, y_train)\n",
    "\n",
    "print('execution time', time.time() - start_time)"
   ]
  },
  {
   "cell_type": "code",
   "execution_count": 37,
   "metadata": {},
   "outputs": [
    {
     "data": {
      "text/plain": [
       "GradientBoostingRegressor(alpha=0.9, criterion='friedman_mse', init=None,\n",
       "             learning_rate=0.51, loss='ls', max_depth=3, max_features=0.9,\n",
       "             max_leaf_nodes=None, min_impurity_decrease=0.0,\n",
       "             min_impurity_split=None, min_samples_leaf=1,\n",
       "             min_samples_split=2, min_weight_fraction_leaf=0.0,\n",
       "             n_estimators=150, presort='auto', random_state=None,\n",
       "             subsample=0.9, verbose=0, warm_start=False)"
      ]
     },
     "execution_count": 37,
     "metadata": {},
     "output_type": "execute_result"
    }
   ],
   "source": [
    "# Call back the optimal combination of parameters \n",
    "GBDT_best_reg = grid_obj.best_estimator_\n",
    "GBDT_best_reg"
   ]
  },
  {
   "cell_type": "code",
   "execution_count": 38,
   "metadata": {},
   "outputs": [
    {
     "name": "stderr",
     "output_type": "stream",
     "text": [
      "/anaconda3/lib/python3.6/site-packages/sklearn/utils/deprecation.py:122: FutureWarning: You are accessing a training score ('mean_train_score'), which will not be available by default any more in 0.21. If you need training scores, please set return_train_score=True\n",
      "  warnings.warn(*warn_args, **warn_kwargs)\n",
      "/anaconda3/lib/python3.6/site-packages/sklearn/utils/deprecation.py:122: FutureWarning: You are accessing a training score ('std_train_score'), which will not be available by default any more in 0.21. If you need training scores, please set return_train_score=True\n",
      "  warnings.warn(*warn_args, **warn_kwargs)\n"
     ]
    }
   ],
   "source": [
    "grid_search_result = pd.DataFrame({'rank': grid_obj.cv_results_['rank_test_score'].tolist(),\n",
    "                                   'params': grid_obj.cv_results_['params'],\n",
    "                                   'mean_test_score': grid_obj.cv_results_['mean_test_score'],\n",
    "                                   'mean_train_score': grid_obj.cv_results_['mean_train_score'],\n",
    "                                   'std_test_score': grid_obj.cv_results_['std_test_score'],\n",
    "                                   'std_train_score': grid_obj.cv_results_['std_train_score']\n",
    "                                  })"
   ]
  },
  {
   "cell_type": "code",
   "execution_count": 39,
   "metadata": {
    "scrolled": true
   },
   "outputs": [
    {
     "data": {
      "text/html": [
       "<div>\n",
       "<style scoped>\n",
       "    .dataframe tbody tr th:only-of-type {\n",
       "        vertical-align: middle;\n",
       "    }\n",
       "\n",
       "    .dataframe tbody tr th {\n",
       "        vertical-align: top;\n",
       "    }\n",
       "\n",
       "    .dataframe thead th {\n",
       "        text-align: right;\n",
       "    }\n",
       "</style>\n",
       "<table border=\"1\" class=\"dataframe\">\n",
       "  <thead>\n",
       "    <tr style=\"text-align: right;\">\n",
       "      <th></th>\n",
       "      <th>rank</th>\n",
       "      <th>params</th>\n",
       "      <th>mean_test_score</th>\n",
       "      <th>mean_train_score</th>\n",
       "      <th>std_test_score</th>\n",
       "      <th>std_train_score</th>\n",
       "    </tr>\n",
       "  </thead>\n",
       "  <tbody>\n",
       "    <tr>\n",
       "      <th>0</th>\n",
       "      <td>2</td>\n",
       "      <td>{'subsample': 0.9, 'n_estimators': 100, 'max_f...</td>\n",
       "      <td>-9.557016</td>\n",
       "      <td>-9.156886</td>\n",
       "      <td>0.077802</td>\n",
       "      <td>0.018857</td>\n",
       "    </tr>\n",
       "    <tr>\n",
       "      <th>1</th>\n",
       "      <td>9</td>\n",
       "      <td>{'subsample': 0.9, 'n_estimators': 50, 'max_fe...</td>\n",
       "      <td>-12.616128</td>\n",
       "      <td>-7.105522</td>\n",
       "      <td>0.118254</td>\n",
       "      <td>0.052988</td>\n",
       "    </tr>\n",
       "    <tr>\n",
       "      <th>2</th>\n",
       "      <td>10</td>\n",
       "      <td>{'subsample': 0.8, 'n_estimators': 100, 'max_f...</td>\n",
       "      <td>-15.825573</td>\n",
       "      <td>-15.786925</td>\n",
       "      <td>0.129824</td>\n",
       "      <td>0.024606</td>\n",
       "    </tr>\n",
       "    <tr>\n",
       "      <th>3</th>\n",
       "      <td>3</td>\n",
       "      <td>{'subsample': 0.9, 'n_estimators': 150, 'max_f...</td>\n",
       "      <td>-9.636674</td>\n",
       "      <td>-9.277189</td>\n",
       "      <td>0.082522</td>\n",
       "      <td>0.013320</td>\n",
       "    </tr>\n",
       "    <tr>\n",
       "      <th>4</th>\n",
       "      <td>7</td>\n",
       "      <td>{'subsample': 0.8, 'n_estimators': 50, 'max_fe...</td>\n",
       "      <td>-10.381521</td>\n",
       "      <td>-8.186252</td>\n",
       "      <td>0.150230</td>\n",
       "      <td>0.029086</td>\n",
       "    </tr>\n",
       "    <tr>\n",
       "      <th>5</th>\n",
       "      <td>6</td>\n",
       "      <td>{'subsample': 0.8, 'n_estimators': 150, 'max_f...</td>\n",
       "      <td>-10.013933</td>\n",
       "      <td>-6.598073</td>\n",
       "      <td>0.121649</td>\n",
       "      <td>0.036054</td>\n",
       "    </tr>\n",
       "    <tr>\n",
       "      <th>6</th>\n",
       "      <td>8</td>\n",
       "      <td>{'subsample': 0.8, 'n_estimators': 100, 'max_f...</td>\n",
       "      <td>-11.046601</td>\n",
       "      <td>-8.307201</td>\n",
       "      <td>0.102289</td>\n",
       "      <td>0.084895</td>\n",
       "    </tr>\n",
       "    <tr>\n",
       "      <th>7</th>\n",
       "      <td>5</td>\n",
       "      <td>{'subsample': 0.8, 'n_estimators': 50, 'max_fe...</td>\n",
       "      <td>-9.793229</td>\n",
       "      <td>-9.284016</td>\n",
       "      <td>0.080119</td>\n",
       "      <td>0.025820</td>\n",
       "    </tr>\n",
       "    <tr>\n",
       "      <th>8</th>\n",
       "      <td>1</td>\n",
       "      <td>{'subsample': 0.9, 'n_estimators': 150, 'max_f...</td>\n",
       "      <td>-9.516250</td>\n",
       "      <td>-8.454906</td>\n",
       "      <td>0.071840</td>\n",
       "      <td>0.040482</td>\n",
       "    </tr>\n",
       "    <tr>\n",
       "      <th>9</th>\n",
       "      <td>4</td>\n",
       "      <td>{'subsample': 0.9, 'n_estimators': 100, 'max_f...</td>\n",
       "      <td>-9.700109</td>\n",
       "      <td>-6.269206</td>\n",
       "      <td>0.070572</td>\n",
       "      <td>0.047608</td>\n",
       "    </tr>\n",
       "  </tbody>\n",
       "</table>\n",
       "</div>"
      ],
      "text/plain": [
       "   rank                                             params  mean_test_score  \\\n",
       "0     2  {'subsample': 0.9, 'n_estimators': 100, 'max_f...        -9.557016   \n",
       "1     9  {'subsample': 0.9, 'n_estimators': 50, 'max_fe...       -12.616128   \n",
       "2    10  {'subsample': 0.8, 'n_estimators': 100, 'max_f...       -15.825573   \n",
       "3     3  {'subsample': 0.9, 'n_estimators': 150, 'max_f...        -9.636674   \n",
       "4     7  {'subsample': 0.8, 'n_estimators': 50, 'max_fe...       -10.381521   \n",
       "5     6  {'subsample': 0.8, 'n_estimators': 150, 'max_f...       -10.013933   \n",
       "6     8  {'subsample': 0.8, 'n_estimators': 100, 'max_f...       -11.046601   \n",
       "7     5  {'subsample': 0.8, 'n_estimators': 50, 'max_fe...        -9.793229   \n",
       "8     1  {'subsample': 0.9, 'n_estimators': 150, 'max_f...        -9.516250   \n",
       "9     4  {'subsample': 0.9, 'n_estimators': 100, 'max_f...        -9.700109   \n",
       "\n",
       "   mean_train_score  std_test_score  std_train_score  \n",
       "0         -9.156886        0.077802         0.018857  \n",
       "1         -7.105522        0.118254         0.052988  \n",
       "2        -15.786925        0.129824         0.024606  \n",
       "3         -9.277189        0.082522         0.013320  \n",
       "4         -8.186252        0.150230         0.029086  \n",
       "5         -6.598073        0.121649         0.036054  \n",
       "6         -8.307201        0.102289         0.084895  \n",
       "7         -9.284016        0.080119         0.025820  \n",
       "8         -8.454906        0.071840         0.040482  \n",
       "9         -6.269206        0.070572         0.047608  "
      ]
     },
     "execution_count": 39,
     "metadata": {},
     "output_type": "execute_result"
    }
   ],
   "source": [
    "grid_search_result"
   ]
  },
  {
   "cell_type": "markdown",
   "metadata": {},
   "source": [
    "### 4.4.2 Model performance evaluation: MSE and R-squared"
   ]
  },
  {
   "cell_type": "code",
   "execution_count": 40,
   "metadata": {},
   "outputs": [
    {
     "data": {
      "text/plain": [
       "GradientBoostingRegressor(alpha=0.9, criterion='friedman_mse', init=None,\n",
       "             learning_rate=0.51, loss='ls', max_depth=3, max_features=0.9,\n",
       "             max_leaf_nodes=None, min_impurity_decrease=0.0,\n",
       "             min_impurity_split=None, min_samples_leaf=1,\n",
       "             min_samples_split=2, min_weight_fraction_leaf=0.0,\n",
       "             n_estimators=150, presort='auto', random_state=None,\n",
       "             subsample=0.9, verbose=0, warm_start=False)"
      ]
     },
     "execution_count": 40,
     "metadata": {},
     "output_type": "execute_result"
    }
   ],
   "source": [
    "GBDT_best_reg.fit(x_train_std, y_train)"
   ]
  },
  {
   "cell_type": "code",
   "execution_count": 41,
   "metadata": {},
   "outputs": [
    {
     "name": "stdout",
     "output_type": "stream",
     "text": [
      "Mean squared error: 9.34\n",
      "Variance score: 0.58\n"
     ]
    }
   ],
   "source": [
    "# Print out important metrics\n",
    "# Mean squared error: 0.86, Variance score: 0.96\n",
    "\n",
    "# Make a prediction based on test data\n",
    "prediction = GBDT_best_reg.predict(x_test_std)\n",
    "\n",
    "# MSE (mean squared error)\n",
    "print(\"Mean squared error: %.2f\"\n",
    "      % mean_squared_error(y_test, prediction))\n",
    "# R-square \n",
    "print('Variance score: %.2f' % r2_score(y_test, prediction))"
   ]
  },
  {
   "cell_type": "markdown",
   "metadata": {},
   "source": [
    "## 5. Summary \n",
    "- 5.1 Feature Conclusion\n",
    "- 5.2 Model Comparison\n",
    "- 5.3 Next Step\n",
    "\n",
    "### 5.1 Feature Conclusion (by Random Forest)\n",
    "Top 10 most important features provided by the Random Forest. \n",
    "- Even though the model explained variance is low in our work, we can observed that the top three features explaind much more model total variances than the others. We want to explain the relationship between these features and the response feature (interest rate on the loan). \n",
    "    - The first feature, term (The number of payments on the loan. Values are in months and can be either 36 or 60) is important to int_rate, because higher term indicates higher int_rate. \n",
    "    - The second & thrid feature, if a loan applicant had more bc_open_to_buy (Total open to buy on revolving bankcards) and percent_bc_gt_75 (Percentage of all bankcard accounts > 75% of limit), the int_rate might be higher since a loan applicant might under greater financial pressure in the past."
   ]
  },
  {
   "cell_type": "code",
   "execution_count": 42,
   "metadata": {},
   "outputs": [
    {
     "data": {
      "image/png": "[encoded data removed]",
      "text/plain": [
       "<PIL.PngImagePlugin.PngImageFile image mode=RGBA size=496x608 at 0x116AA64A8>"
      ]
     },
     "execution_count": 42,
     "metadata": {},
     "output_type": "execute_result"
    }
   ],
   "source": [
    "feature_importance_RF = Image.open(\"../image/Interest_Rate_Features_importance_RF.png\")\n",
    "feature_importance_RF"
   ]
  },
  {
   "cell_type": "markdown",
   "metadata": {},
   "source": [
    "### 5.2 Model Comparison (Metric evaulations)\n",
    "At here, I have two defined objectives, mean squared error and R-squared, to evaluate a continuous regression problem.\n",
    "For the Lending Club, it can decide a model deployment by a predefined objective. It might care a lot on the MSE as long as the variance is not too high. Thus, **GB Regression** is preferred here.\n",
    "\n",
    "| Model | MSE | R-squared (model explained variance / total original variance) |\n",
    "| ---  | --- | --- |\n",
    "| Linear Regression | 13.36 | **0.40** |\n",
    "| Bagged Decision Tree Regression| 10.73 | 0.52 |\n",
    "| Random Forest Regression| 10.18 | 0.54 |\n",
    "| **GB Regression**| **9.34** | 0.58 |"
   ]
  },
  {
   "cell_type": "markdown",
   "metadata": {},
   "source": [
    "### 5.3 Next Step\n",
    "\n",
    "The predictive power of our models is week here(MSE is high), this might because that Lending Club decide the interest rate based more on set of qualitative norms or quantitative data that are not in our dataset. \n",
    "\n",
    "To build better models, we should spend more time to understand Lending Club's business model and interest rate decision making process to get more related and complete dataset."
   ]
  },
  {
   "cell_type": "code",
   "execution_count": null,
   "metadata": {},
   "outputs": [],
   "source": []
  }
 ],
 "metadata": {
  "kernelspec": {
   "display_name": "Python 3",
   "language": "python",
   "name": "python3"
  },
  "language_info": {
   "codemirror_mode": {
    "name": "ipython",
    "version": 3
   },
   "file_extension": ".py",
   "mimetype": "text/x-python",
   "name": "python",
   "nbconvert_exporter": "python",
   "pygments_lexer": "ipython3",
   "version": "3.6.5"
  }
 },
 "nbformat": 4,
 "nbformat_minor": 2
}
